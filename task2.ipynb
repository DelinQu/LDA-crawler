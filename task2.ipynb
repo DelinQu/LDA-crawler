{
 "cells": [
  {
   "cell_type": "code",
   "execution_count": null,
   "metadata": {},
   "outputs": [],
   "source": [
    "import requests\n",
    "import numpy as np\n",
    "import pandas as pd\n",
    "import os\n",
    "import time\n",
    "import json\n",
    "from lxml import etree\n",
    "from config import *"
   ]
  },
  {
   "cell_type": "code",
   "execution_count": null,
   "metadata": {},
   "outputs": [],
   "source": [
    "HEADER = {\n",
    "    'Content-Type': 'application/json;charset=UTF-8',\n",
    "    'X-Requested-With': 'XMLHttpRequest',\n",
    "    'Accept': 'application/json, text/javascript, */*; q=0.01s',\n",
    "    'Cookie': '_identity-frontend=848196bf64e754c33d8fa582494ed42147f04110774c851088e6eb8770b4e134a%3A2%3A%7Bi%3A0%3Bs%3A18%3A%22_identity-frontend%22%3Bi%3A1%3Bs%3A50%3A%22%5B76367%2C%22okTqBUaPh2Zvl_LL3bPN0zz4LD_CdKuN%22%2C2592000%5D%22%3B%7D; xcx-frontend=0ejmssd6ed0lafeq6g4s83ialp; Hm_lvt_55f107d825a4c4e989d543a8bf935508=1648210339,1648894971,1648911715,1648911780; Hm_lpvt_55f107d825a4c4e989d543a8bf935508=1648912533',\n",
    "    'User-Agent': 'Mozilla/5.0 (X11; Linux x86_64) AppleWebKit/537.36 (KHTML, like Gecko) Chrome/88.0.4324.150 Safari/537.36',\n",
    "}\n",
    "params = {\n",
    "    'page': 1,\n",
    "    'size': '15',\n",
    "    'source_id': '12',\n",
    "    'content_type': 'news',\n",
    "    'content_ids':    '161327-161324-161325-161326-161322-161305-161318-161316-161302-161313-161311-161306-161290-161297-161298-161299-161267-161293-161291-161294'\n",
    "}\n",
    "url = 'https://webapi.diandong.com/content/list'\n"
   ]
  },
  {
   "cell_type": "code",
   "execution_count": null,
   "metadata": {},
   "outputs": [],
   "source": [
    "for j in range(1,100):\n",
    "    params['page'] = j\n",
    "    #模拟网页的ajax，动态获取页面\n",
    "    r = requests.get(url =url,params = params,headers = HEADER,timeout = 2).json()\n",
    "    for i in range(15):#每个json数据含有15个content的相关信息\n",
    "        \n",
    "        #提取出每个车评的contentid并定制每个content的url\n",
    "        contend_url = \"https://www.diandong.com/news/\"+str(r['data']['list'][i]['contentid'])+'.html'\n",
    "        p = requests.get(url =contend_url,headers = HEADER,timeout = 2).text\n",
    "        # content= content.text.encode('utf-8').decode('unicode_escape')\n",
    "        tree = etree.HTML(p)\n",
    "        content = tree.xpath('//*[@id=\"gallery-selector\"]//p/text()')\n",
    "        print(i,\":\\n\",content)\n",
    "        author = tree.xpath('/html/body/div[2]/div/div[1]/div[2]/div[1]/div[2]/span/text()')\n",
    "        print(i,\":\\n\",author)\n",
    "        source = tree.xpath('/html/body/div[2]/div/div[1]/div[2]/div[1]/div[1]/span/text()')\n",
    "        time = tree.xpath('/html/body/div[2]/div/div[1]/div[2]/div[2]/div[1]/text()')\n",
    "        print(i,\":\\n\",time)"
   ]
  }
 ],
 "metadata": {
  "language_info": {
   "codemirror_mode": {
    "name": "ipython",
    "version": 3
   },
   "file_extension": ".py",
   "mimetype": "text/x-python",
   "name": "python",
   "nbconvert_exporter": "python",
   "pygments_lexer": "ipython3",
   "version": 3
  },
  "orig_nbformat": 2
 },
 "nbformat": 4,
 "nbformat_minor": 2
}