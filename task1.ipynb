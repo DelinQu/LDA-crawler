{
 "cells": [
  {
   "cell_type": "markdown",
   "metadata": {},
   "source": [
    "## Some global config"
   ]
  },
  {
   "cell_type": "code",
   "execution_count": 59,
   "metadata": {},
   "outputs": [],
   "source": [
    "import requests\n",
    "import pandas as pd\n",
    "import os\n",
    "import time\n",
    "from config import *\n",
    "from bs4 import BeautifulSoup\n",
    "import json"
   ]
  },
  {
   "cell_type": "markdown",
   "metadata": {},
   "source": [
    "## 新出行\n",
    "API list："
   ]
  },
  {
   "cell_type": "code",
   "execution_count": null,
   "metadata": {},
   "outputs": [],
   "source": [
    "api_post = 'https://xchuxing.com/evaluation?page={}'\n",
    "api_post_detail = 'https://xchuxing.com/article/{}'\n",
    "api_cmt = 'https://xchuxing.com/comments/{}/1/1'\n",
    "\n",
    "SITE = 'xchuxing'\n",
    "PAGE_NUM = 30\n",
    "SAVE_DIR = os.path.join(DATA_PATH, TASKS[0], SITE)"
   ]
  },
  {
   "cell_type": "markdown",
   "metadata": {},
   "source": [
    "- headers"
   ]
  },
  {
   "cell_type": "code",
   "execution_count": null,
   "metadata": {},
   "outputs": [],
   "source": [
    "HEADER = {\n",
    "    'Content-Type': 'application/json;charset=UTF-8',\n",
    "    'X-Requested-With': 'XMLHttpRequest',\n",
    "    'Accept': 'application/json, text/javascript, */*; q=0.01s',\n",
    "    'Cookie': '_identity-frontend=848196bf64e754c33d8fa582494ed42147f04110774c851088e6eb8770b4e134a%3A2%3A%7Bi%3A0%3Bs%3A18%3A%22_identity-frontend%22%3Bi%3A1%3Bs%3A50%3A%22%5B76367%2C%22okTqBUaPh2Zvl_LL3bPN0zz4LD_CdKuN%22%2C2592000%5D%22%3B%7D; xcx-frontend=0ejmssd6ed0lafeq6g4s83ialp; Hm_lvt_55f107d825a4c4e989d543a8bf935508=1648210339,1648894971,1648911715,1648911780; Hm_lpvt_55f107d825a4c4e989d543a8bf935508=1648912533',\n",
    "    'User-Agent': 'Mozilla/5.0 (X11; Linux x86_64) AppleWebKit/537.36 (KHTML, like Gecko) Chrome/88.0.4324.150 Safari/537.36',\n",
    "}\n",
    "\n",
    "HEADER_POST = {\n",
    "    'Accept': 'text/html,application/xhtml+xml,application/xml;q=0.9,image/avif,image/webp,image/apng,*/*;q=0.8,application/signed-exchange;v=b3;q=0.9',\n",
    "    'Accept-Encoding': 'gzip, deflate, br',\n",
    "    'Accept-Language': 'zh-CN,zh;q=0.9',\n",
    "    'Cookie': '_identity-frontend=848196bf64e754c33d8fa582494ed42147f04110774c851088e6eb8770b4e134a%3A2%3A%7Bi%3A0%3Bs%3A18%3A%22_identity-frontend%22%3Bi%3A1%3Bs%3A50%3A%22%5B76367%2C%22okTqBUaPh2Zvl_LL3bPN0zz4LD_CdKuN%22%2C2592000%5D%22%3B%7D; xcx-frontend=0ejmssd6ed0lafeq6g4s83ialp; Hm_lvt_55f107d825a4c4e989d543a8bf935508=1648210339,1648894971,1648911715,1648911780; Hm_lpvt_55f107d825a4c4e989d543a8bf935508=1648912533',\n",
    "    'User-Agent': 'Mozilla/5.0 (X11; Linux x86_64) AppleWebKit/537.36 (KHTML, like Gecko) Chrome/88.0.4324.150 Safari/537.36',\n",
    "}"
   ]
  },
  {
   "cell_type": "markdown",
   "metadata": {},
   "source": [
    "- request"
   ]
  },
  {
   "cell_type": "code",
   "execution_count": null,
   "metadata": {},
   "outputs": [],
   "source": [
    "csv_post, csv_cmt = {}, {}\n",
    "for key in ['tid', 'title', 'summary', 'commentnum', 'category_id', 'category_name', 'create_time', 'content']:\n",
    "    csv_post[key] = list()\n",
    "for key in ['id', 'tid', 'content', 'liketimes', 'updated_at']:\n",
    "    csv_cmt[key] = list()\n",
    "\n",
    "for page in range(1, PAGE_NUM+1):\n",
    "    resp_sum = requests.get(api_post.format(page), headers=HEADER).json()\n",
    "    for sdata in resp_sum['data']:\n",
    "        tid = sdata['tid']\n",
    "        \n",
    "        keys = list(csv_post.keys())\n",
    "        keys.remove('content')\n",
    "        for key in keys:\n",
    "            csv_post[key].append(sdata[key]) if sdata.get(key) else csv_post[key].append('0')\n",
    "        \n",
    "        # content\n",
    "        post_html = requests.get(api_post_detail.format(tid), headers=HEADER_POST).content.decode()\n",
    "        soup = BeautifulSoup(post_html)\n",
    "        content = [s for s in soup.article.stripped_strings]\n",
    "        content = ''.join(content[4:-5])        \n",
    "        csv_post['content'].append(content)\n",
    "        \n",
    "        resp_cmt = requests.get(api_cmt.format(tid), headers=HEADER).json()\n",
    "        for cdata in resp_cmt['data']:\n",
    "            for key in csv_cmt.keys():\n",
    "                if cdata.get(key):\n",
    "                    csv_cmt[key].append(cdata[key]) if key != 'updated_at' else csv_cmt[key].append(time.strftime('%Y-%m-%d', time.localtime(cdata[key])))\n",
    "                else:\n",
    "                    csv_cmt[key].append('0')"
   ]
  },
  {
   "cell_type": "markdown",
   "metadata": {},
   "source": [
    "- save csv file"
   ]
  },
  {
   "cell_type": "code",
   "execution_count": null,
   "metadata": {},
   "outputs": [],
   "source": [
    "df_sum, df_cmt = pd.DataFrame(csv_post), pd.DataFrame(csv_cmt)\n",
    "os.makedirs(SAVE_DIR, exist_ok=True)\n",
    "df_sum.to_csv(os.path.join(SAVE_DIR, 'posts.csv'))\n",
    "df_cmt.to_csv(os.path.join(SAVE_DIR, 'comments.csv'))"
   ]
  },
  {
   "cell_type": "markdown",
   "metadata": {},
   "source": [
    "## 电动邦\n",
    "API list："
   ]
  },
  {
   "cell_type": "code",
   "execution_count": null,
   "metadata": {},
   "outputs": [],
   "source": [
    "api_post = 'https://webapi.diandong.com/content/list?page={}&size=15&source_id=12&content_type=all'\n",
    "api_post_detail = 'https://www.diandong.com/news/{}.html'\n",
    "api_cmt = 'https://openapi.diandong.com/comment/list/{}/1/50'\n",
    "\n",
    "SITE = 'diandongbang'\n",
    "PAGE_NUM = 330\n",
    "SAVE_DIR = os.path.join(DATA_PATH, TASKS[0], SITE)"
   ]
  },
  {
   "cell_type": "markdown",
   "metadata": {},
   "source": [
    "- headers"
   ]
  },
  {
   "cell_type": "code",
   "execution_count": null,
   "metadata": {},
   "outputs": [],
   "source": [
    "HEADER_POSTS = {\n",
    "    'content-encoding': 'gzip',\n",
    "    'content-type': 'text/html; charset=UTF-8',\n",
    "    # 'Accept': 'application/json, text/javascript, */*; q=0.01s',\n",
    "    'User-Agent': 'Mozilla/5.0 (X11; Linux x86_64) AppleWebKit/537.36 (KHTML, like Gecko) Chrome/88.0.4324.150 Safari/537.36',\n",
    "}\n",
    "\n",
    "HEADER_DETAIL = {\n",
    "    'content-type': 'text/html; charset=utf8',\n",
    "    'content-encoding': 'gzip',\n",
    "    'User-Agent': 'Mozilla/5.0 (X11; Linux x86_64) AppleWebKit/537.36 (KHTML, like Gecko) Chrome/88.0.4324.150 Safari/537.36',\n",
    "}\n",
    "\n",
    "HEADER_CMT = {\n",
    "    'Content-Type': 'application/json;charset=UTF-8',\n",
    "    'X-Requested-With': 'XMLHttpRequest',\n",
    "    'Accept': 'application/json, text/javascript, */*; q=0.01s',\n",
    "    'Cookie': '_identity-frontend=848196bf64e754c33d8fa582494ed42147f04110774c851088e6eb8770b4e134a%3A2%3A%7Bi%3A0%3Bs%3A18%3A%22_identity-frontend%22%3Bi%3A1%3Bs%3A50%3A%22%5B76367%2C%22okTqBUaPh2Zvl_LL3bPN0zz4LD_CdKuN%22%2C2592000%5D%22%3B%7D; xcx-frontend=0ejmssd6ed0lafeq6g4s83ialp; Hm_lvt_55f107d825a4c4e989d543a8bf935508=1648210339,1648894971,1648911715,1648911780; Hm_lpvt_55f107d825a4c4e989d543a8bf935508=1648912533',\n",
    "    'User-Agent': 'Mozilla/5.0 (X11; Linux x86_64) AppleWebKit/537.36 (KHTML, like Gecko) Chrome/88.0.4324.150 Safari/537.36',\n",
    "}"
   ]
  },
  {
   "cell_type": "markdown",
   "metadata": {},
   "source": [
    "- request"
   ]
  },
  {
   "cell_type": "code",
   "execution_count": null,
   "metadata": {},
   "outputs": [],
   "source": [
    "csv_post, csv_cmt = {}, {}\n",
    "for key in ['catid', 'contentid', 'title', 'tags', 'published', 'author', 'comment_num', 'data_type', 'content']:\n",
    "    csv_post[key] = list()\n",
    "for key in ['replyid', 'sourceid', 'content', 'authorid', 'author', 'supports', 'showTime']:\n",
    "    csv_cmt[key] = list()\n",
    "\n",
    "for page in range(248, PAGE_NUM+1):\n",
    "    resp_sum = requests.get(api_post.format(page), headers=HEADER_POSTS).json()\n",
    "    for sdata in resp_sum['data']['list']:\n",
    "        if sdata['data_type'] == 'video':\n",
    "            continue\n",
    "        \n",
    "        tid = sdata['contentid']\n",
    "        \n",
    "        keys = list(csv_post.keys())\n",
    "        keys.remove('content')\n",
    "        for key in keys:\n",
    "            csv_post[key].append(sdata[key]) if sdata.get(key) else csv_post[key].append('0')\n",
    "        \n",
    "        # content\n",
    "        post_html = requests.get(api_post_detail.format(tid), headers=HEADER_DETAIL).content.decode()\n",
    "        soup = BeautifulSoup(post_html)\n",
    "        content = [s for s in soup.find_all(\"div\", class_=\"detail-article-content my-gallery\")[0].stripped_strings]        \n",
    "        csv_post['content'].append(content)\n",
    "        \n",
    "        resp_cmt = requests.get(api_cmt.format(tid), headers=HEADER_CMT).json()\n",
    "        for cdata in resp_cmt['data']['reply']:\n",
    "            for key in csv_cmt.keys():\n",
    "                if cdata.get(key):\n",
    "                    csv_cmt[key].append(cdata[key])\n",
    "                else:\n",
    "                    csv_cmt[key].append('0')"
   ]
  },
  {
   "cell_type": "markdown",
   "metadata": {},
   "source": [
    "- save csv file"
   ]
  },
  {
   "cell_type": "code",
   "execution_count": null,
   "metadata": {},
   "outputs": [],
   "source": [
    "df_sum, df_cmt = pd.DataFrame(csv_post), pd.DataFrame(csv_cmt)\n",
    "os.makedirs(SAVE_DIR, exist_ok=True)\n",
    "df_sum.to_csv(os.path.join(SAVE_DIR, 'posts.csv'))\n",
    "df_cmt.to_csv(os.path.join(SAVE_DIR, 'comments.csv'))"
   ]
  },
  {
   "cell_type": "markdown",
   "metadata": {},
   "source": [
    "## 车云"
   ]
  },
  {
   "cell_type": "markdown",
   "metadata": {},
   "source": [
    "- api"
   ]
  },
  {
   "cell_type": "code",
   "execution_count": null,
   "metadata": {},
   "outputs": [],
   "source": [
    "api_post = 'https://openapi.cheyun.com/article/list/0/46343%7C46245%7C46279%7C46309%7C46305%7C46331%7C46330%7C46320%7C46316%7C46362%7C46360%7C46355%7C46354%7C46329%7C46325%7C46324%7C46303%7C46229%7C46227%7C/{}/{}'\n",
    "api_post_detail = 'https://openapi.cheyun.com/article/{}'\n",
    "api_cmt = 'http://m.cheyun.com/comment/get_comment?page=1&zw_id={}&length=100'\n",
    "\n",
    "SITE = 'cheyun'\n",
    "PAGE_NUM, PAGE_SIZE = 30, 100\n",
    "SAVE_DIR = os.path.join(DATA_PATH, TASKS[0], SITE)"
   ]
  },
  {
   "cell_type": "markdown",
   "metadata": {},
   "source": [
    "- headers"
   ]
  },
  {
   "cell_type": "code",
   "execution_count": null,
   "metadata": {},
   "outputs": [],
   "source": [
    "HEADER_POSTS = {\n",
    "    'accept': 'text/html,application/xhtml+xml,application/xml;q=0.9,image/avif,image/webp,image/apng,*/*;q=0.8,application/signed-exchange;v=b3;q=0.9',\n",
    "    'accept-encoding': 'gzip, deflate, br',\n",
    "    'accept-language': 'zh-CN,zh;q=0.9',\n",
    "    'User-Agent': 'Mozilla/5.0 (X11; Linux x86_64) AppleWebKit/537.36 (KHTML, like Gecko) Chrome/88.0.4324.150 Safari/537.36',\n",
    "}\n",
    "\n",
    "HEADER_CMT = {\n",
    "    'Accept': 'text/html,application/xhtml+xml,application/xml;q=0.9,image/avif,image/webp,image/apng,*/*;q=0.8,application/signed-exchange;v=b3;q=0.9',\n",
    "    'Accept-Encoding': 'gzip, deflate',\n",
    "    'Accept-Language': 'zh-CN,zh;q=0.9',\n",
    "    'User-Agent': 'Mozilla/5.0 (X11; Linux x86_64) AppleWebKit/537.36 (KHTML, like Gecko) Chrome/88.0.4324.150 Safari/537.36',\n",
    "}\n",
    "\n",
    "HEADER_DETAIL = {\n",
    "    'accept': 'application/json, text/plain, */*',\n",
    "    'accept-encoding': 'gzip, deflate, br',\n",
    "    'accept-language': 'zh-CN,zh;q=0.9',\n",
    "    'user-agent': 'Mozilla/5.0 (X11; Linux x86_64) AppleWebKit/537.36 (KHTML, like Gecko) Chrome/99.0.4844.51 Safari/537.36'\n",
    "}"
   ]
  },
  {
   "cell_type": "markdown",
   "metadata": {},
   "source": [
    "- request"
   ]
  },
  {
   "cell_type": "code",
   "execution_count": null,
   "metadata": {},
   "outputs": [],
   "source": [
    "csv_post, csv_cmt = {}, {}\n",
    "for key in ['id', 'title', 'description', 'tags', 'inputtime', 'type', 'author', 'type', 'content']:\n",
    "    csv_post[key] = list()\n",
    "for key in ['id', 'user_id', 'content', 'ding', 'cai', 'create_time', 'update_time']:\n",
    "    csv_cmt[key] = list()\n",
    "\n",
    "for page in range(29, PAGE_NUM+1):\n",
    "    resp_sum = requests.get(api_post.format(page, PAGE_SIZE), headers=HEADER_POSTS).json()\n",
    "    for sdata in resp_sum['data']['list']:\n",
    "        tid = sdata['id']\n",
    "        \n",
    "        keys = list(csv_post.keys())\n",
    "        keys.remove('content')\n",
    "        for key in keys:\n",
    "            csv_post[key].append(sdata[key]) if sdata.get(key) else csv_post[key].append('0')\n",
    "        \n",
    "        # content\n",
    "        post_html = requests.get(api_post_detail.format(tid), headers=HEADER_DETAIL).json()['data']['content']\n",
    "        soup = BeautifulSoup(post_html)\n",
    "        content = '\\n'.join([s for s in soup.stripped_strings] )\n",
    "        csv_post['content'].append(content)\n",
    "        \n",
    "        resp_cmt = requests.get(api_cmt.format(tid), headers=HEADER_CMT).json()\n",
    "        for cdata in resp_cmt['msg']['msg']:\n",
    "            for key in csv_cmt.keys():\n",
    "                if cdata.get(key):\n",
    "                    csv_cmt[key].append(cdata[key])\n",
    "                else:\n",
    "                    csv_cmt[key].append('0')"
   ]
  },
  {
   "cell_type": "markdown",
   "metadata": {},
   "source": [
    "- save csv file"
   ]
  },
  {
   "cell_type": "code",
   "execution_count": null,
   "metadata": {},
   "outputs": [],
   "source": [
    "df_sum, df_cmt = pd.DataFrame(csv_post), pd.DataFrame(csv_cmt)\n",
    "os.makedirs(SAVE_DIR, exist_ok=True)\n",
    "df_sum.to_csv(os.path.join(SAVE_DIR, 'posts.csv'))\n",
    "df_cmt.to_csv(os.path.join(SAVE_DIR, 'comments.csv'))"
   ]
  },
  {
   "cell_type": "markdown",
   "metadata": {},
   "source": [
    "## 汽车之家"
   ]
  },
  {
   "cell_type": "markdown",
   "metadata": {},
   "source": [
    "- api"
   ]
  },
  {
   "cell_type": "code",
   "execution_count": null,
   "metadata": {},
   "outputs": [],
   "source": [
    "api_post = 'https://www.autohome.com.cn/ashx/v2/bestauto/getBastautoContentFlow?search_after={}'\n",
    "api_post_detail = 'https://www.autohome.com.cn/drive/202204/1243748-all.html?pvareaid={}#'\n",
    "api_cmt = 'https://reply.autohome.com.cn/ShowReply/ReplyTopLevelList.ashx?_appid=m&appid=1&objid={}&next=0&pagesize=50&datatype=json&ordertype=0&replydata=1'\n",
    "\n",
    "SITE = 'autohome'\n",
    "PAGE_NUM, PAGE_SIZE = 30, 100\n",
    "SAVE_DIR = os.path.join(DATA_PATH, TASKS[0], SITE)"
   ]
  },
  {
   "cell_type": "markdown",
   "metadata": {},
   "source": [
    "- header"
   ]
  },
  {
   "cell_type": "code",
   "execution_count": null,
   "metadata": {},
   "outputs": [],
   "source": [
    "HEADER_POSTS = {\n",
    "    'accept': 'text/html,application/xhtml+xml,application/xml;q=0.9,image/avif,image/webp,image/apng,*/*;q=0.8,application/signed-exchange;v=b3;q=0.9',\n",
    "    'accept-encoding': 'gzip, deflate, br',\n",
    "    'accept-language': 'zh-CN,zh;q=0.9',\n",
    "    'User-Agent': 'Mozilla/5.0 (X11; Linux x86_64) AppleWebKit/537.36 (KHTML, like Gecko) Chrome/88.0.4324.150 Safari/537.36',\n",
    "}\n",
    "\n",
    "HEADER_CMT = {\n",
    "    'Accept': 'text/html,application/xhtml+xml,application/xml;q=0.9,image/avif,image/webp,image/apng,*/*;q=0.8,application/signed-exchange;v=b3;q=0.9',\n",
    "    'Accept-Encoding': 'gzip, deflate',\n",
    "    'Accept-Language': 'zh-CN,zh;q=0.9',\n",
    "    'User-Agent': 'Mozilla/5.0 (X11; Linux x86_64) AppleWebKit/537.36 (KHTML, like Gecko) Chrome/88.0.4324.150 Safari/537.36',\n",
    "}\n",
    "\n",
    "HEADER_DETAIL = {\n",
    "    'accept': 'text/html,application/xhtml+xml,application/xml;q=0.9,image/avif,image/webp,image/apng,*/*;q=0.8,application/signed-exchange;v=b3;q=0.9',\n",
    "    'accept-encoding': 'gzip, deflate, br',\n",
    "    'accept-language': 'zh-CN,zh;q=0.9',\n",
    "    'upgrade-insecure-requests': '1',\n",
    "    'sec-fetch-dest': 'document',\n",
    "    'user-agent': 'Mozilla/5.0 (X11; Linux x86_64) AppleWebKit/537.36 (KHTML, like Gecko) Chrome/99.0.4844.51 Safari/537.36'\n",
    "}"
   ]
  },
  {
   "cell_type": "markdown",
   "metadata": {},
   "source": [
    "- request"
   ]
  },
  {
   "cell_type": "code",
   "execution_count": null,
   "metadata": {},
   "outputs": [],
   "source": [
    "csv_post, csv_cmt = {}, {}\n",
    "for key in ['biz_id', 'title', 'small_title', 'publish_time', 'author_name', 'reply_count', 'content']:\n",
    "    csv_post[key] = list()\n",
    "for key in ['RMemberId', 'RMemberName', 'RObjId', 'RContent', 'replydate']:\n",
    "    csv_cmt[key] = list()\n",
    "\n",
    "END_TIME = '2021/01/01'\n",
    "search_after = ''\n",
    "stime = '2022/4/30'\n",
    "\n",
    "while(stime > END_TIME):\n",
    "    resp_sum = requests.get(api_post.format(search_after), headers=HEADER_POSTS).json()\n",
    "    search_after = resp_sum['message']\n",
    "    stime = resp_sum['result']['items'][0]['publish_time'].split(' ')[0]\n",
    "\n",
    "    for sdata in resp_sum['result']['items']:\n",
    "        tid = sdata['biz_id']\n",
    "        keys = list(csv_post.keys())\n",
    "        keys.remove('content')\n",
    "        for key in keys:\n",
    "            csv_post[key].append(sdata[key]) if sdata.get(key) else csv_post[key].append('0')\n",
    "        \n",
    "        # content\n",
    "        post_html = requests.get(api_post_detail.format(tid), headers=HEADER_DETAIL).content.decode('gb2312')\n",
    "        soup = BeautifulSoup(post_html)\n",
    "        content = '\\n'.join([s for s in soup.stripped_strings] )\n",
    "        csv_post['content'].append(content)\n",
    "        \n",
    "        resp_cmt = requests.get(api_cmt.format(tid), headers=HEADER_CMT).json()\n",
    "        if not resp_cmt['result'].get('list'):\n",
    "            continue\n",
    "\n",
    "        for cdata in resp_cmt['result']['list']:\n",
    "            for key in csv_cmt.keys():\n",
    "                if cdata.get(key):\n",
    "                    csv_cmt[key].append(cdata[key])\n",
    "                else:\n",
    "                    csv_cmt[key].append('0')"
   ]
  },
  {
   "cell_type": "markdown",
   "metadata": {},
   "source": [
    "- save file"
   ]
  },
  {
   "cell_type": "code",
   "execution_count": null,
   "metadata": {},
   "outputs": [],
   "source": [
    "df_sum, df_cmt = pd.DataFrame(csv_post), pd.DataFrame(csv_cmt)\n",
    "os.makedirs(SAVE_DIR, exist_ok=True)\n",
    "df_sum.to_csv(os.path.join(SAVE_DIR, 'posts.csv'))\n",
    "df_cmt.to_csv(os.path.join(SAVE_DIR, 'comments.csv'))"
   ]
  },
  {
   "cell_type": "markdown",
   "metadata": {},
   "source": [
    "## 新车评"
   ]
  },
  {
   "cell_type": "code",
   "execution_count": null,
   "metadata": {},
   "outputs": [],
   "source": [
    "api_post = 'https://www.xincheping.com/pingce/firsttry/p{}.html'\n",
    "api_post_detail = 'https://www.xincheping.com/pingce/{}.html'\n",
    "api_cmt = 'https://www.xincheping.com/cmt/list.do?targetId={}&targetType=1&pageNo={}'\n",
    "\n",
    "SITE = 'xincheping'\n",
    "SAVE_DIR = os.path.join(DATA_PATH, TASKS[0], SITE)\n",
    "\n",
    "END_TIME = '2018/01/01'\n",
    "stime = '2022/04/30'"
   ]
  },
  {
   "cell_type": "markdown",
   "metadata": {},
   "source": [
    "- Header"
   ]
  },
  {
   "cell_type": "code",
   "execution_count": null,
   "metadata": {},
   "outputs": [],
   "source": [
    "HEADER_POST = {\n",
    "    'Accept': 'text/html,application/xhtml+xml,application/xml;q=0.9,image/avif,image/webp,image/apng,*/*;q=0.8,application/signed-exchange;v=b3;q=0.9',\n",
    "    'Accept-Encoding': 'gzip, deflate, br',\n",
    "    'Accept-Language': 'zh-CN,zh;q=0.9',\n",
    "    'User-Agent': 'Mozilla/5.0 (X11; Linux x86_64) AppleWebKit/537.36 (KHTML, like Gecko) Chrome/88.0.4324.150 Safari/537.36',\n",
    "}\n",
    "\n",
    "HEADER_CMT = {\n",
    "    'Accept': 'text/html,application/xhtml+xml,application/xml;q=0.9,image/avif,image/webp,image/apng,*/*;q=0.8,application/signed-exchange;v=b3;q=0.9',\n",
    "    'Accept-Encoding': 'gzip, deflate, br',\n",
    "    'Accept-Language': 'zh-CN,zh;q=0.9',\n",
    "    'User-Agent': 'Mozilla/5.0 (X11; Linux x86_64) AppleWebKit/537.36 (KHTML, like Gecko) Chrome/88.0.4324.150 Safari/537.36',\n",
    "}\n",
    "\n",
    "HEADER_DETAIL = {\n",
    "    'Accept': 'text/html,application/xhtml+xml,application/xml;q=0.9,image/avif,image/webp,image/apng,*/*;q=0.8,application/signed-exchange;v=b3;q=0.9',\n",
    "    'Accept-Encoding': 'gzip, deflate, br',\n",
    "    'Accept-Language': 'zh-CN,zh;q=0.9',\n",
    "    'user-agent': 'Mozilla/5.0 (X11; Linux x86_64) AppleWebKit/537.36 (KHTML, like Gecko) Chrome/99.0.4844.51 Safari/537.36'\n",
    "}"
   ]
  },
  {
   "cell_type": "markdown",
   "metadata": {},
   "source": [
    "- helper functions"
   ]
  },
  {
   "cell_type": "code",
   "execution_count": null,
   "metadata": {},
   "outputs": [],
   "source": [
    "def filt_post_id(htm):\n",
    "    ks, kd = 'https://www.xincheping.com/pingce/', '.html'\n",
    "    soup = BeautifulSoup(htm)\n",
    "    cps = soup.find_all('div', class_='cp_fbox')\n",
    "    \n",
    "    data = list()\n",
    "\n",
    "    for cp in cps:\n",
    "        data.append(\n",
    "            {\n",
    "                'tid': cp.a['href'].replace(ks,'').replace(kd,''),\n",
    "                'title': cps[0].h2.string,\n",
    "                'author': list(cp.span.stripped_strings)[-2],\n",
    "                'create_time': list(cp.span.stripped_strings)[-1]\n",
    "            }\n",
    "        )\n",
    "    \n",
    "    return data\n",
    "\n",
    "def filt_post_content(htm):\n",
    "    soup = BeautifulSoup(htm)\n",
    "    soup = soup.find('div', class_='de_info')\n",
    "    content = '\\n'.join([s for s in soup.stripped_strings] )\n",
    "    return content"
   ]
  },
  {
   "cell_type": "markdown",
   "metadata": {},
   "source": [
    "- requests"
   ]
  },
  {
   "cell_type": "code",
   "execution_count": null,
   "metadata": {},
   "outputs": [],
   "source": [
    "csv_post, csv_cmt = {}, {}\n",
    "for key in ['tid', 'title', 'author', 'create_time', 'content']:\n",
    "    csv_post[key] = list()\n",
    "for key in ['targetId', 'userId', 'userName', 'cmtContent', 'time']:\n",
    "    csv_cmt[key] = list()\n",
    "PN = 1\n",
    "\n",
    "while(stime > END_TIME):\n",
    "    htm = requests.get(api_post.format(PN), headers=HEADER_POST).content.decode()\n",
    "    resp_sum = filt_post_id(htm)\n",
    "    \n",
    "    stime = resp_sum[0]['create_time']\n",
    "    PN += 1\n",
    "\n",
    "    for sdata in resp_sum:\n",
    "        tid = sdata['tid']\n",
    "        keys = list(csv_post.keys())\n",
    "        keys.remove('content')\n",
    "        for key in keys:\n",
    "            csv_post[key].append(sdata[key]) if sdata.get(key) else csv_post[key].append('0')\n",
    "        \n",
    "        # content\n",
    "        post_html = requests.get(api_post_detail.format(tid), headers=HEADER_DETAIL).content.decode()\n",
    "        csv_post['content'].append(filt_post_content(post_html))\n",
    "        \n",
    "        page_num = 1\n",
    "        while(1):\n",
    "            resp_cmt = requests.get(api_cmt.format(tid, page_num), headers=HEADER_CMT).json()\n",
    "            \n",
    "            if not resp_cmt['result']['item'].get('newCmtList'):\n",
    "                break\n",
    "            data = resp_cmt['result']['item']\n",
    "            for cdata in data['newCmtList']:\n",
    "                csv_cmt['targetId'].append(cdata['targetId'])\n",
    "                csv_cmt['time'].append(cdata['time'])\n",
    "                csv_cmt['cmtContent'].append(cdata['cmtContent'])\n",
    "                \n",
    "                csv_cmt['userId'].append(cdata['userInfo']['userId'])\n",
    "                csv_cmt['userName'].append(cdata['userInfo']['userName'])\n",
    "\n",
    "            page_num += 1"
   ]
  },
  {
   "cell_type": "markdown",
   "metadata": {},
   "source": [
    "- save to file"
   ]
  },
  {
   "cell_type": "code",
   "execution_count": null,
   "metadata": {},
   "outputs": [],
   "source": [
    "df_sum, df_cmt = pd.DataFrame(csv_post), pd.DataFrame(csv_cmt)\n",
    "os.makedirs(SAVE_DIR, exist_ok=True)\n",
    "df_sum.to_csv(os.path.join(SAVE_DIR, 'posts.csv'))\n",
    "df_cmt.to_csv(os.path.join(SAVE_DIR, 'comments.csv'))"
   ]
  },
  {
   "cell_type": "markdown",
   "metadata": {},
   "source": [
    "## 车质网"
   ]
  },
  {
   "cell_type": "markdown",
   "metadata": {},
   "source": [
    "- api list"
   ]
  },
  {
   "cell_type": "code",
   "execution_count": 163,
   "metadata": {},
   "outputs": [],
   "source": [
    "api_post = 'http://www.12365auto.com/scbg/jp-0-0-0--1-0-0-0-0-{}.shtml'\n",
    "api_post_detail = 'http://www.12365auto.com/scbg/{}/{}-all.shtml'\n",
    "api_cmt = 'http://comment.12365auto.com/server/getComment.ashx?_callback=jQuery17206171924443972485_1650694101492&replyid={}&type=1&act=getAjaxComment&size=50&page=1&zjdy=0&_=1650694102465'\n",
    "\n",
    "SITE = '12365auto'\n",
    "SAVE_DIR = os.path.join(DATA_PATH, TASKS[0], SITE)\n",
    "\n",
    "END_TIME = '2019-00-00 00:00'\n",
    "stime = '2022-04-30 00:00'"
   ]
  },
  {
   "cell_type": "markdown",
   "metadata": {},
   "source": [
    "- headers"
   ]
  },
  {
   "cell_type": "code",
   "execution_count": 164,
   "metadata": {},
   "outputs": [],
   "source": [
    "HEADER_POST = {\n",
    "    'Accept': 'text/html,application/xhtml+xml,application/xml;q=0.9,image/avif,image/webp,image/apng,*/*;q=0.8,application/signed-exchange;v=b3;q=0.9',\n",
    "    'Accept-Encoding': 'gzip, deflate',\n",
    "    'Accept-Language': 'zh-CN,zh;q=0.9',\n",
    "    'User-Agent': 'Mozilla/5.0 (X11; Linux x86_64) AppleWebKit/537.36 (KHTML, like Gecko) Chrome/88.0.4324.150 Safari/537.36',\n",
    "}\n",
    "\n",
    "HEADER_CMT = {\n",
    "    'Accept': 'text/html,application/xhtml+xml,application/xml;q=0.9,image/avif,image/webp,image/apng,*/*;q=0.8,application/signed-exchange;v=b3;q=0.9',\n",
    "    'Accept-Encoding': 'gzip, deflate, br',\n",
    "    'Accept-Language': 'zh-CN,zh;q=0.9',\n",
    "    'User-Agent': 'Mozilla/5.0 (X11; Linux x86_64) AppleWebKit/537.36 (KHTML, like Gecko) Chrome/88.0.4324.150 Safari/537.36',\n",
    "}\n",
    "\n",
    "HEADER_DETAIL = {\n",
    "    'Accept': 'text/html,application/xhtml+xml,application/xml;q=0.9,image/avif,image/webp,image/apng,*/*;q=0.8,application/signed-exchange;v=b3;q=0.9',\n",
    "    'Accept-Encoding': 'gzip, deflate',\n",
    "    'Accept-Language': 'zh-CN,zh;q=0',\n",
    "    'user-agent': 'Mozilla/5.0 (X11; Linux x86_64) AppleWebKit/537.36 (KHTML, like Gecko) Chrome/99.0.4844.51 Safari/537.36'\n",
    "}"
   ]
  },
  {
   "cell_type": "code",
   "execution_count": 165,
   "metadata": {},
   "outputs": [],
   "source": [
    "def filt_post_id(htm):\n",
    "    soup = BeautifulSoup(htm)\n",
    "    pcs = list(soup.find_all('div', class_='list_show'))\n",
    "    titles = [pc.h1.find_all('a')[-1].string for pc in pcs]\n",
    "    ids = [pc.find('div', class_='p_left').a['href'].split('/')[-1].split('.')[0] for pc in pcs]\n",
    "    tis = [pc.find('div', class_='p_left').a['href'].split('/')[-2] for pc in pcs]\n",
    "    data = []\n",
    "    for title, id, ti in zip(titles, ids, tis):\n",
    "        data.append(\n",
    "            {\n",
    "                'tid': id,\n",
    "                'title': title,\n",
    "                'ti': ti\n",
    "            }\n",
    "        )\n",
    "    return data\n",
    "\n",
    "def filt_post_content(htm):\n",
    "    soup = BeautifulSoup(htm)\n",
    "    soup = soup.find('div', class_='pjnr')\n",
    "\n",
    "    info = list(soup.find('div', class_='lef').stripped_strings)\n",
    "    frm = info[0].split('：')[-1]\n",
    "    time = info[1].split('：')[-1]\n",
    "    author = info[2].split('：')[-1]\n",
    "    editor = info[3].split('：')[-1]\n",
    "\n",
    "    content = ''.join(soup.find('div', class_='show').stripped_strings)\n",
    "\n",
    "    data = {\n",
    "        'from': frm,\n",
    "        'create_time': time,\n",
    "        'author': author,\n",
    "        'editor': editor,\n",
    "        'content': content\n",
    "    }\n",
    "\n",
    "    return data\n",
    "\n",
    "def JQ2JS(cnt):\n",
    "    cnt = requests.get(url=api_cmt.format(473524), headers=HEADER_CMT).content\n",
    "    cnt = cnt.decode()\n",
    "    cnt = cnt[cnt.find('(')+1:cnt.rfind(')')]\n",
    "    return json.loads(cnt.encode())"
   ]
  },
  {
   "cell_type": "markdown",
   "metadata": {},
   "source": [
    "- request"
   ]
  },
  {
   "cell_type": "code",
   "execution_count": 170,
   "metadata": {},
   "outputs": [],
   "source": [
    "csv_post, csv_cmt = {}, {}\n",
    "for key in ['tid', 'ti', 'title','from', 'create_time', 'author', 'editor', 'content']:\n",
    "    csv_post[key] = list()\n",
    "for key in ['p_id', 'replyid', 'p_username', 'p_up', 'p_date', 'p_content', 'replyid']:\n",
    "    csv_cmt[key] = list()\n",
    "\n",
    "PN = 1\n",
    "\n",
    "while(stime > END_TIME):\n",
    "    htm = requests.get(url=api_post.format(PN), headers=HEADER_POST).content.decode()\n",
    "    resp_sum = filt_post_id(htm)\n",
    "    PN += 1\n",
    "\n",
    "    for sdata in resp_sum:\n",
    "        tid = sdata['tid']\n",
    "        ti = sdata['ti']\n",
    "        keys = list(sdata.keys())\n",
    "\n",
    "        if requests.get(api_post_detail.format(ti,tid), headers=HEADER_DETAIL).status_code == 404:\n",
    "            continue\n",
    "\n",
    "        for key in keys:\n",
    "            csv_post[key].append(sdata[key]) if sdata.get(key) else csv_post[key].append('0')\n",
    "        \n",
    "        # content & author\n",
    "        post_html = requests.get(api_post_detail.format(ti, tid), headers=HEADER_DETAIL).content.decode('gbk')\n",
    "        pdata = filt_post_content(post_html)\n",
    "        stime = pdata['create_time']\n",
    "\n",
    "        for key in pdata.keys():\n",
    "            csv_post[key].append(pdata[key])\n",
    "\n",
    "        cnt = requests.get(api_cmt.format(tid), headers=HEADER_CMT).content\n",
    "        resp_cmt = JQ2JS(cnt)\n",
    "        keys = list(csv_cmt.keys())\n",
    "        keys.remove('replyid')\n",
    "\n",
    "        for cdata in resp_cmt['cmntlist']:\n",
    "            csv_cmt['replyid'].append(tid)\n",
    "            for key in keys:\n",
    "                csv_cmt[key].append(cdata[key])\n"
   ]
  },
  {
   "cell_type": "markdown",
   "metadata": {},
   "source": [
    "- save to file"
   ]
  },
  {
   "cell_type": "code",
   "execution_count": 171,
   "metadata": {},
   "outputs": [],
   "source": [
    "df_sum, df_cmt = pd.DataFrame(csv_post), pd.DataFrame(csv_cmt)\n",
    "os.makedirs(SAVE_DIR, exist_ok=True)\n",
    "df_sum.to_csv(os.path.join(SAVE_DIR, 'posts.csv'))\n",
    "df_cmt.to_csv(os.path.join(SAVE_DIR, 'comments.csv'))"
   ]
  },
  {
   "cell_type": "markdown",
   "metadata": {},
   "source": [
    "## 第一电动"
   ]
  },
  {
   "cell_type": "code",
   "execution_count": 95,
   "metadata": {},
   "outputs": [],
   "source": [
    "api_post = 'https://www.d1ev.com/carnews/pingce/list-{}'\n",
    "api_post_detail = 'https://www.d1ev.com/carnews/pingce/{}'\n",
    "api_cmt = 'https://www.d1ev.com/contents/comment/get_comment?per_page=1&id={}&type=10'\n",
    "\n",
    "SITE = 'd1ev'\n",
    "SAVE_DIR = os.path.join(DATA_PATH, TASKS[0], SITE)\n",
    "\n",
    "END_TIME = '2018-12-30 00:00:00'\n",
    "stime = '2022-04-23 00:00:00'"
   ]
  },
  {
   "cell_type": "markdown",
   "metadata": {},
   "source": [
    "- header"
   ]
  },
  {
   "cell_type": "code",
   "execution_count": 96,
   "metadata": {},
   "outputs": [],
   "source": [
    "HEADER_POST = {\n",
    "    'Access-Control-Allow-Headers': 'Content-Type,Access-Token,Appid,Secret,Authorization,x-csrf-token,x-requested-with',\n",
    "    'Access-Control-Allow-Methods': 'GET,POST,OPTIONS',\n",
    "    'Connection': 'keep-alive',\n",
    "    'Content-Encoding': 'gzip',\n",
    "    'Content-Type': 'text/html; charset=UTF-8',\n",
    "    'User-Agent': 'Mozilla/5.0 (X11; Linux x86_64) AppleWebKit/537.36 (KHTML, like Gecko) Chrome/88.0.4324.150 Safari/537.36',\n",
    "}\n",
    "\n",
    "HEADER_CMT = {\n",
    "    'Content-Type': 'application/json;charset=UTF-8',\n",
    "    'X-Requested-With': 'XMLHttpRequest',\n",
    "    'Accept': 'application/json, text/javascript, */*; q=0.01s',\n",
    "    'Cookie': '_identity-frontend=848196bf64e754c33d8fa582494ed42147f04110774c851088e6eb8770b4e134a%3A2%3A%7Bi%3A0%3Bs%3A18%3A%22_identity-frontend%22%3Bi%3A1%3Bs%3A50%3A%22%5B76367%2C%22okTqBUaPh2Zvl_LL3bPN0zz4LD_CdKuN%22%2C2592000%5D%22%3B%7D; xcx-frontend=0ejmssd6ed0lafeq6g4s83ialp; Hm_lvt_55f107d825a4c4e989d543a8bf935508=1648210339,1648894971,1648911715,1648911780; Hm_lpvt_55f107d825a4c4e989d543a8bf935508=1648912533',\n",
    "    'User-Agent': 'Mozilla/5.0 (X11; Linux x86_64) AppleWebKit/537.36 (KHTML, like Gecko) Chrome/88.0.4324.150 Safari/537.36'\n",
    "}\n",
    "\n",
    "HEADER_DETAIL = {\n",
    "    'Accept': 'text/html,application/xhtml+xml,application/xml;q=0.9,image/avif,image/webp,image/apng,*/*;q=0.8,application/signed-exchange;v=b3;q=0.9',\n",
    "    'Accept-Encoding': 'gzip, deflate, br',\n",
    "    'Accept-Language': 'zh-CN,zh;q=0.9',\n",
    "    'user-agent': 'Mozilla/5.0 (X11; Linux x86_64) AppleWebKit/537.36 (KHTML, like Gecko) Chrome/99.0.4844.51 Safari/537.36'\n",
    "}"
   ]
  },
  {
   "cell_type": "markdown",
   "metadata": {},
   "source": [
    "- helper function"
   ]
  },
  {
   "cell_type": "code",
   "execution_count": 97,
   "metadata": {},
   "outputs": [],
   "source": [
    "def filt_post_id(htm):\n",
    "    soup = BeautifulSoup(htm)\n",
    "    cps = soup.find_all('div', class_='article--content am-fl')\n",
    "    titles =[list(cp.a.stripped_strings)[0] for cp in cps]\n",
    "    times = [list(cp.time.stripped_strings)[0] for cp in cps]\n",
    "    ids = [cp.a['href'].split('/')[-1] for cp in cps]\n",
    "    \n",
    "    data = list()\n",
    "\n",
    "    for id, time, title in zip(ids, times, titles):\n",
    "        data.append(\n",
    "            {\n",
    "                'tid': id,\n",
    "                'title': title,\n",
    "                'create_time': time\n",
    "            }\n",
    "        )\n",
    "    \n",
    "    return data\n",
    "\n",
    "def filt_post_content(htm):\n",
    "    soup = BeautifulSoup(htm)\n",
    "    author = list(soup.find('div', class_='ws-title').a.stripped_strings)[-1]\n",
    "    content = '\\n'.join(list(soup.find('div', class_='ws-newscon').stripped_strings))\n",
    "\n",
    "    return author, content"
   ]
  },
  {
   "cell_type": "markdown",
   "metadata": {},
   "source": [
    "- request"
   ]
  },
  {
   "cell_type": "code",
   "execution_count": 147,
   "metadata": {},
   "outputs": [
    {
     "ename": "KeyError",
     "evalue": "'create_time'",
     "output_type": "error",
     "traceback": [
      "\u001b[0;31m---------------------------------------------------------------------------\u001b[0m",
      "\u001b[0;31mKeyError\u001b[0m                                  Traceback (most recent call last)",
      "\u001b[1;32m/home/qdl/Desktop/LDA-crawler/task1.ipynb Cell 62'\u001b[0m in \u001b[0;36m<module>\u001b[0;34m\u001b[0m\n\u001b[1;32m      <a href='vscode-notebook-cell:/home/qdl/Desktop/LDA-crawler/task1.ipynb#ch0000057?line=8'>9</a>\u001b[0m htm \u001b[39m=\u001b[39m requests\u001b[39m.\u001b[39mget(url\u001b[39m=\u001b[39mapi_post\u001b[39m.\u001b[39mformat(PN), headers\u001b[39m=\u001b[39mHEADER_POST)\u001b[39m.\u001b[39mcontent\u001b[39m.\u001b[39mdecode()\n\u001b[1;32m     <a href='vscode-notebook-cell:/home/qdl/Desktop/LDA-crawler/task1.ipynb#ch0000057?line=9'>10</a>\u001b[0m resp_sum \u001b[39m=\u001b[39m filt_post_id(htm)\n\u001b[0;32m---> <a href='vscode-notebook-cell:/home/qdl/Desktop/LDA-crawler/task1.ipynb#ch0000057?line=10'>11</a>\u001b[0m stime \u001b[39m=\u001b[39m resp_sum[\u001b[39m0\u001b[39;49m][\u001b[39m'\u001b[39;49m\u001b[39mcreate_time\u001b[39;49m\u001b[39m'\u001b[39;49m]\n\u001b[1;32m     <a href='vscode-notebook-cell:/home/qdl/Desktop/LDA-crawler/task1.ipynb#ch0000057?line=11'>12</a>\u001b[0m PN \u001b[39m+\u001b[39m\u001b[39m=\u001b[39m \u001b[39m1\u001b[39m\n\u001b[1;32m     <a href='vscode-notebook-cell:/home/qdl/Desktop/LDA-crawler/task1.ipynb#ch0000057?line=13'>14</a>\u001b[0m \u001b[39mfor\u001b[39;00m sdata \u001b[39min\u001b[39;00m resp_sum:\n",
      "\u001b[0;31mKeyError\u001b[0m: 'create_time'"
     ]
    }
   ],
   "source": [
    "csv_post, csv_cmt = {}, {}\n",
    "for key in ['tid', 'title', 'author', 'create_time', 'content']:\n",
    "    csv_post[key] = list()\n",
    "for key in ['id', 'targetId', 'addtime', 'userId', 'nickName', 'content', 'isHot']:\n",
    "    csv_cmt[key] = list()\n",
    "PN = 1\n",
    "\n",
    "while(stime > END_TIME):\n",
    "    htm = requests.get(url=api_post.format(PN), headers=HEADER_POST).content.decode()\n",
    "    resp_sum = filt_post_id(htm)\n",
    "    stime = resp_sum[0]['create_time']\n",
    "    PN += 1\n",
    "\n",
    "    for sdata in resp_sum:\n",
    "        tid = sdata['tid']\n",
    "        keys = list(sdata.keys())\n",
    "\n",
    "        if requests.get(api_post_detail.format(tid), headers=HEADER_DETAIL).status_code == 404:\n",
    "            continue\n",
    "\n",
    "        for key in keys:\n",
    "            csv_post[key].append(sdata[key]) if sdata.get(key) else csv_post[key].append('0')\n",
    "        \n",
    "        # content & author\n",
    "        post_html = requests.get(api_post_detail.format(tid), headers=HEADER_DETAIL).content.decode()\n",
    "        author, content = filt_post_content(post_html)\n",
    "        csv_post['content'].append(content)\n",
    "        csv_post['author'].append(author)\n",
    "\n",
    "        resp_cmt = requests.get(api_cmt.format(tid), headers=HEADER_CMT).content\n",
    "        \n",
    "        resp_cmt = json.loads(resp_cmt)\n",
    "\n",
    "        for cdata in resp_cmt['comment']:\n",
    "            csv_cmt['id'].append(cdata['id'])\n",
    "            csv_cmt['addtime'].append(cdata['addtime'])\n",
    "            csv_cmt['userId'].append(cdata['userId'])\n",
    "            csv_cmt['nickName'].append(cdata['nickName'])\n",
    "            csv_cmt['content'].append(cdata['content'])\n",
    "            csv_cmt['isHot'].append(cdata['isHot'])\n",
    "            \n",
    "            csv_cmt['targetId'].append(resp_cmt['article']['targetId'])"
   ]
  },
  {
   "cell_type": "markdown",
   "metadata": {},
   "source": [
    "- save to file"
   ]
  },
  {
   "cell_type": "code",
   "execution_count": 99,
   "metadata": {},
   "outputs": [],
   "source": [
    "df_sum, df_cmt = pd.DataFrame(csv_post), pd.DataFrame(csv_cmt)\n",
    "os.makedirs(SAVE_DIR, exist_ok=True)\n",
    "df_sum.to_csv(os.path.join(SAVE_DIR, 'posts.csv'))\n",
    "df_cmt.to_csv(os.path.join(SAVE_DIR, 'comments.csv'))"
   ]
  }
 ],
 "metadata": {
  "interpreter": {
   "hash": "916dbcbb3f70747c44a77c7bcd40155683ae19c65e1c03b4aa3499c5328201f1"
  },
  "kernelspec": {
   "display_name": "Python 3.9.5 64-bit",
   "language": "python",
   "name": "python3"
  },
  "language_info": {
   "codemirror_mode": {
    "name": "ipython",
    "version": 3
   },
   "file_extension": ".py",
   "mimetype": "text/x-python",
   "name": "python",
   "nbconvert_exporter": "python",
   "pygments_lexer": "ipython3",
   "version": "3.8.12"
  },
  "orig_nbformat": 4
 },
 "nbformat": 4,
 "nbformat_minor": 2
}
