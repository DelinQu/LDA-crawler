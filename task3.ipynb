{
 "cells": [
  {
   "cell_type": "code",
   "execution_count": 1,
   "metadata": {},
   "outputs": [],
   "source": [
    "from lxml import etree\n",
    "import requests\n",
    "import pandas as pd\n",
    "import os\n",
    "from config import *\n",
    "from bs4 import BeautifulSoup"
   ]
  },
  {
   "cell_type": "code",
   "execution_count": 58,
   "metadata": {},
   "outputs": [
    {
     "data": {
      "text/plain": [
       "\"\\nparams中的childdtype中，输入topic中的key，可进行主题分类\\npubtimeyear：文件发布日期\\nq: '新能源汽车',即查找与什么相关的内容\\n\""
      ]
     },
     "execution_count": 58,
     "metadata": {},
     "output_type": "execute_result"
    }
   ],
   "source": [
    "url = \"http://sousuo.gov.cn/data\"\n",
    "\n",
    "HEADER = {\n",
    "   'Accept-Encoding': 'gzip, deflate',\n",
    "   'Accept-Language': 'zh-CN,zh;q=0.9',\n",
    "   'X-Requested-With': 'XMLHttpRequest',\n",
    "   'Cookie': 'allmobilize=mobile; wdcid=7a24ed37295bf057; wdses=4febaba60cf98871; wdlast=1649517429',\n",
    "   'User-Agent': 'Mozilla/5.0 (X11; Linux x86_64) AppleWebKit/537.36 (KHTML, like Gecko) Chrome/88.0.4324.150 Safari/537.36',\n",
    "}\n",
    "\n",
    "payload = {\n",
    "    't': 'zhengcelibrary',\n",
    "    'q': '新能源汽车',\n",
    "    'timetype': '',\n",
    "    'mintime': '',\n",
    "    'maxtime': '',\n",
    "    'sort': '',\n",
    "    'sortType': '1',\n",
    "    'searchfield': '',\n",
    "    'pcodeJiguan': '',\n",
    "    'childtype': '',\n",
    "    'subchildtype': '',\n",
    "    'tsbq': '',\n",
    "    'pubtimeyear': '',\n",
    "    'puborg': '',\n",
    "    'pcodeYear': '',\n",
    "    'pcodeNum': '',\n",
    "    'filetype': '',\n",
    "    'p': '4',\n",
    "    'n': '5',\n",
    "    'inpro': '',\n",
    "    'bmfl': '',\n",
    "    'dup': '',\n",
    "    'orpro': '',\n",
    "}\n",
    "\n",
    "topic={\n",
    "    'gc300':'国务院组织机构',\n",
    "    'gc188':'综合政务',\n",
    "    'gc187':'国民经济管理、国有资产监管',\n",
    "    'gc186':'财政、金融、审计',\n",
    "    'gc185':'国土资源、能源',\n",
    "    'gc184':'农业、林业、水利',\n",
    "    'gc183':'工业、交通',\n",
    "    'gc182':'商贸、海关、旅游',\n",
    "    'gc181':'市场监督、安全生产监管',\n",
    "    'gc180':'城乡建设、环境保护',\n",
    "    'gc179':'科技、教育',\n",
    "    'gc178':'文化、广电、新闻出版',\n",
    "    'gc175':'劳动、人事、监察',\n",
    "    'gc174':'公安、安全、司法',\n",
    "    'gc173':'民政、扶贫、救灾',\n",
    "    'gc172':'民族、宗教',\n",
    "}\n",
    "'''\n",
    "params中的childdtype中，输入topic中的key，可进行主题分类\n",
    "pubtimeyear：文件发布日期\n",
    "q: '新能源汽车',即查找与什么相关的内容\n",
    "'''"
   ]
  },
  {
   "cell_type": "code",
   "execution_count": 59,
   "metadata": {},
   "outputs": [],
   "source": [
    "def get_gongwen_content(url,type_of_doc):\n",
    "    p = requests.get(url, headers = HEADER)\n",
    "    p = p.text.encode('ISO-8859-1').decode(requests.utils.get_encodings_from_content(p.text)[0])\n",
    "    tree = etree.HTML(p)\n",
    "    if type_of_doc == \"gongwen\":\n",
    "        document = tree.xpath('//*[@id=\"UCAP-CONTENT\"]//text()')\n",
    "    else:\n",
    "        document = tree.xpath('//*[@class=\"pages_content\"]//text()')\n",
    "        if not len(document)>0:\n",
    "            document = tree.xpath('//*[@id=\"UCAP-CONTENT\"]//text()')\n",
    "    doc = ''\n",
    "    for lists in document:\n",
    "        doc = doc + lists\n",
    "    #print(doc)\n",
    "    return doc"
   ]
  },
  {
   "cell_type": "code",
   "execution_count": 60,
   "metadata": {},
   "outputs": [],
   "source": [
    "category = []\n",
    "cat_name = []\n",
    "content = []\n",
    "date = []\n",
    "title = []\n",
    "summary = []\n",
    "id_num = []"
   ]
  },
  {
   "cell_type": "code",
   "execution_count": 61,
   "metadata": {
    "tags": []
   },
   "outputs": [
    {
     "name": "stdout",
     "output_type": "stream",
     "text": [
      "gwy: http://www.gov.cn/zhengce/zhengceku/2021-11/26/content_5653479.htm\n",
      "gwy: http://www.gov.cn/zhengce/zhengceku/2021-10/26/content_5644984.htm\n",
      "gwy: http://www.gov.cn/zhengce/zhengceku/2021-05/21/content_5609800.htm\n",
      "gwy: http://www.gov.cn/zhengce/zhengceku/2021-02/20/content_5587874.htm\n",
      "gwy: http://www.gov.cn/zhengce/zhengceku/2021-02/22/content_5588274.htm\n",
      "bumen: http://www.gov.cn/zhengce/zhengceku/2021-12/31/content_5665857.htm\n",
      "bumen: http://www.gov.cn/zhengce/zhengceku/2021-12/12/content_5660257.htm\n",
      "bumen: http://www.gov.cn/zhengce/zhengceku/2021-08/26/content_5633554.htm\n",
      "bumen: http://www.gov.cn/zhengce/zhengceku/2021-05/15/content_5640040.htm\n",
      "bumen: http://www.gov.cn/zhengce/zhengceku/2021-08/28/content_5633897.htm\n",
      "gwy: http://www.gov.cn/zhengce/zhengceku/2021-03/25/content_5595644.htm\n",
      "bumen: http://www.gov.cn/zhengce/zhengceku/2021-03/31/content_5597135.htm\n",
      "bumen: http://www.gov.cn/zhengce/zhengceku/2021-02/09/content_5586234.htm\n",
      "bumen: http://www.gov.cn/zhengce/zhengceku/2021-12/14/content_5660752.htm\n",
      "bumen: http://www.gov.cn/zhengce/zhengceku/2021-11/06/content_5649400.htm\n",
      "bumen: http://www.gov.cn/zhengce/zhengceku/2021-06/10/content_5616843.htm\n",
      "bumen: http://www.gov.cn/zhengce/zhengceku/2021-09/16/content_5637709.htm\n",
      "bumen: http://www.gov.cn/zhengce/zhengceku/2021-10/11/content_5641891.htm\n",
      "bumen: http://www.gov.cn/zhengce/zhengceku/2021-06/10/content_5616601.htm\n",
      "bumen: http://www.gov.cn/zhengce/zhengceku/2021-07/24/content_5627088.htm\n",
      "bumen: http://www.gov.cn/zhengce/zhengceku/2021-08/29/content_5637125.htm\n",
      "bumen: http://www.gov.cn/zhengce/zhengceku/2021-06/04/content_5615536.htm\n",
      "bumen: http://www.gov.cn/zhengce/zhengceku/2021-08/10/content_5630532.htm\n",
      "bumen: http://www.gov.cn/zhengce/zhengceku/2021-01/17/content_5580512.htm\n",
      "bumen: http://www.gov.cn/zhengce/zhengceku/2021-03/25/content_5595692.htm\n",
      "bumen: http://www.gov.cn/zhengce/zhengceku/2021-06/01/content_5614610.htm\n",
      "bumen: http://www.gov.cn/zhengce/zhengceku/2021-03/06/content_5590895.htm\n",
      "bumen: http://www.gov.cn/zhengce/zhengceku/2021-01/29/content_5583489.htm\n",
      "bumen: http://www.gov.cn/zhengce/zhengceku/2021-04/08/content_5598516.htm\n",
      "bumen: http://www.gov.cn/zhengce/zhengceku/2021-01/08/content_5578230.htm\n",
      "gwy: http://www.gov.cn/zhengce/zhengceku/2022-03/25/content_5681343.htm\n",
      "gwy: http://www.gov.cn/zhengce/zhengceku/2022-01/24/content_5670202.htm\n",
      "gwy: http://www.gov.cn/zhengce/zhengceku/2022-01/26/content_5670527.htm\n",
      "gwy: http://www.gov.cn/zhengce/zhengceku/2022-01/28/content_5670947.htm\n",
      "gwy: http://www.gov.cn/zhengce/zhengceku/2022-01/12/content_5667817.htm\n",
      "bumen: http://www.gov.cn/zhengce/zhengceku/2022-04/09/content_5684250.htm\n",
      "bumen: http://www.gov.cn/zhengce/zhengceku/2022-04/06/content_5683595.htm\n",
      "bumen: http://www.gov.cn/zhengce/zhengceku/2022-03/29/content_5682210.htm\n",
      "bumen: http://www.gov.cn/zhengce/zhengceku/2022-01/25/content_5670345.htm\n",
      "bumen: http://www.gov.cn/zhengce/zhengceku/2022-01/18/content_5669108.htm\n",
      "gwy: http://www.gov.cn/zhengce/zhengceku/2022-01/18/content_5669049.htm\n",
      "gwy: http://www.gov.cn/zhengce/zhengceku/2022-01/27/content_5670717.htm\n",
      "gwy: http://www.gov.cn/zhengce/zhengceku/2022-02/14/content_5673424.htm\n",
      "gwy: http://www.gov.cn/zhengce/zhengceku/2022-02/11/content_5673082.htm\n",
      "gwy: http://www.gov.cn/zhengce/zhengceku/2022-01/07/content_5666914.htm\n",
      "bumen: http://www.gov.cn/zhengce/zhengceku/2022-02/18/content_5674530.htm\n",
      "bumen: http://www.gov.cn/zhengce/zhengceku/2022-01/21/content_5669780.htm\n",
      "bumen: http://www.gov.cn/zhengce/zhengceku/2022-01/30/content_5671296.htm\n",
      "bumen: http://www.gov.cn/zhengce/zhengceku/2022-01/26/content_5670555.htm\n",
      "bumen: http://www.gov.cn/zhengce/zhengceku/2022-02/11/content_5673015.htm\n"
     ]
    }
   ],
   "source": [
    "\n",
    "for year in ['2021','2022']:\n",
    "    payload['pubtimeyear'] = year\n",
    "    r = requests.get(url=url,headers=HEADER,params=payload).json()\n",
    "    total_count = int(r['searchVO']['catMap']['gongwen']['totalCount'])+int(r['searchVO']['catMap']['bumenfile']['totalCount'])\n",
    "    page = ceil(total_count/5)  \n",
    "    for i in range(0,page):\n",
    "        payload['p']=i\n",
    "        r = requests.get(url=url,headers=HEADER,params=payload).json()\n",
    "        if r['searchVO']['catMap']['gongwen']['listVO']:\n",
    "            for web in r['searchVO']['catMap']['gongwen']['listVO']:\n",
    "                title.append(web['title'])\n",
    "                date.append(web['pubtimeStr'])\n",
    "                cat_name.append(web['colname'])\n",
    "                category.append(web['childtype'])\n",
    "                summary.append(web['summary'])\n",
    "                url_of_every_doc = web['url']\n",
    "                print(\"gwy:\",url_of_every_doc)\n",
    "                id_num.append(web['id'])\n",
    "                content.append(get_gongwen_content(url_of_every_doc,\"gongwen\"))\n",
    "\n",
    "        if  r['searchVO']['catMap']['bumenfile']['listVO']:\n",
    "            for web in r['searchVO']['catMap']['bumenfile']['listVO']:\n",
    "                title.append(web['title'])\n",
    "                date.append(web['pubtimeStr'])\n",
    "                cat_name.append(web['colname'])\n",
    "                category.append(web['childtype'])\n",
    "                summary.append(web['summary'])\n",
    "                url_of_every_doc = web['url']\n",
    "                print(\"bumen:\",url_of_every_doc)\n",
    "                id_num.append(web['id'])\n",
    "                content.append(get_gongwen_content(url_of_every_doc,\"bumenfile\"))"
   ]
  },
  {
   "cell_type": "code",
   "execution_count": 62,
   "metadata": {},
   "outputs": [],
   "source": [
    "df = pd.DataFrame({\"category\":category, \n",
    "\"cat_name\":cat_name,\n",
    "\"date\":date,\n",
    "\"title\":title,\n",
    "\"summary\":summary,\n",
    "\"id_num\":id_num,\n",
    "\"content\":content,},\n",
    "columns =['category','cat_name','date','title','summary','id_num','content'])"
   ]
  },
  {
   "cell_type": "code",
   "execution_count": 63,
   "metadata": {},
   "outputs": [],
   "source": [
    "SAVE_DIR = \"C:/Users/Administrator/Desktop/LDA-crawler/LDA-crawler/data\"\n",
    "os.makedirs(SAVE_DIR, exist_ok=True)\n",
    "df.to_csv(os.path.join(SAVE_DIR, 'gwy.csv'))"
   ]
  }
 ],
 "metadata": {
  "interpreter": {
   "hash": "58e288affa7bad9ef5f9218e6abe9f629ed1c58447fc2e49004b95be91570243"
  },
  "kernelspec": {
   "display_name": "Python 3.9.5 64-bit",
   "language": "python",
   "name": "python3"
  },
  "language_info": {
   "codemirror_mode": {
    "name": "ipython",
    "version": 3
   },
   "file_extension": ".py",
   "mimetype": "text/x-python",
   "name": "python",
   "nbconvert_exporter": "python",
   "pygments_lexer": "ipython3",
   "version": "3.8.12"
  },
  "orig_nbformat": 2
 },
 "nbformat": 4,
 "nbformat_minor": 2
}
